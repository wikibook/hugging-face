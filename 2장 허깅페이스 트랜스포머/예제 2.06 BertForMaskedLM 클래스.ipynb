{
 "cells": [
  {
   "cell_type": "code",
   "execution_count": null,
   "id": "39d707db",
   "metadata": {},
   "outputs": [],
   "source": [
    "import torch\n",
    "from torch.nn import functional as F\n",
    "from transformers import BertTokenizer, BertForMaskedLM\n",
    "\n",
    "tokenizer = BertTokenizer.from_pretrained(\"bert-base-uncased\")\n",
    "model = BertForMaskedLM.from_pretrained(\"bert-base-uncased\", return_dict=True)\n",
    "\n",
    "text = f\"I {tokenizer.mask_token} learning about tokenizers.\"\n",
    "input = tokenizer(text, return_tensors=\"pt\")\n",
    "output = model(**input)\n",
    "\n",
    "mask_index = torch.where(input[\"input_ids\"][0] == tokenizer.mask_token_id)\n",
    "softmax = F.softmax(output.logits, dim=-1)\n",
    "mask_word = softmax[0, mask_index, :]\n",
    "top10 = torch.topk(mask_word, 10, dim=1)[1][0]\n",
    "\n",
    "for token in top10:\n",
    "    word = tokenizer.decode([token])\n",
    "    sentence = text.replace(tokenizer.mask_token, word)\n",
    "    print(sentence)"
   ]
  }
 ],
 "metadata": {
  "kernelspec": {
   "display_name": "Python 3 (ipykernel)",
   "language": "python",
   "name": "python3"
  },
  "language_info": {
   "codemirror_mode": {
    "name": "ipython",
    "version": 3
   },
   "file_extension": ".py",
   "mimetype": "text/x-python",
   "name": "python",
   "nbconvert_exporter": "python",
   "pygments_lexer": "ipython3",
   "version": "3.9.13"
  }
 },
 "nbformat": 4,
 "nbformat_minor": 5
}
