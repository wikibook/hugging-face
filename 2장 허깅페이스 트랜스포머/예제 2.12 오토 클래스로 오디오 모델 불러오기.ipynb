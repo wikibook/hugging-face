{
 "cells": [
  {
   "cell_type": "code",
   "execution_count": null,
   "id": "39d707db",
   "metadata": {},
   "outputs": [],
   "source": [
    "from datasets import load_dataset\n",
    "from transformers import AutoFeatureExtractor\n",
    "\n",
    "model_name = \"facebook/wav2vec2-base-960h\" # \"openai/whisper-tiny\"\n",
    "feature_extractor = AutoFeatureExtractor.from_pretrained(model_name)\n",
    "\n",
    "dataset = load_dataset(\"PolyAI/minds14\", \"ko-KR\", split=\"train\")\n",
    "audios = [audio[\"array\"] for audio in dataset[\"audio\"][:2]]\n",
    "\n",
    "inputs = feature_extractor(raw_speech=audios, padding=True, return_tensors=\"pt\")\n",
    "print(inputs.keys())"
   ]
  }
 ],
 "metadata": {
  "kernelspec": {
   "display_name": "Python 3 (ipykernel)",
   "language": "python",
   "name": "python3"
  },
  "language_info": {
   "codemirror_mode": {
    "name": "ipython",
    "version": 3
   },
   "file_extension": ".py",
   "mimetype": "text/x-python",
   "name": "python",
   "nbconvert_exporter": "python",
   "pygments_lexer": "ipython3",
   "version": "3.9.13"
  }
 },
 "nbformat": 4,
 "nbformat_minor": 5
}
