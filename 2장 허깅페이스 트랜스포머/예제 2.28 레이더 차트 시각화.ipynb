{
 "cells": [
  {
   "cell_type": "code",
   "execution_count": null,
   "id": "e41fc33d",
   "metadata": {
    "vscode": {
     "languageId": "plaintext"
    }
   },
   "outputs": [],
   "source": [
    "from evaluate.visualization import radar_plot\n",
    "\n",
    "data = [\n",
    "   {\"accuracy\": 0.49, \"precision\": 0.50, \"f1\": 0.49, \"latency_in_seconds\": 0.15},\n",
    "   {\"accuracy\": 0.92, \"precision\": 0.93, \"f1\": 0.92, \"latency_in_seconds\": 0.10},\n",
    "   {\"accuracy\": 0.68, \"precision\": 0.70, \"f1\": 0.68, \"latency_in_seconds\": 0.12}, \n",
    "   {\"accuracy\": 0.78, \"precision\": 0.80, \"f1\": 0.78, \"latency_in_seconds\": 0.11}\n",
    "]\n",
    "\n",
    "model_names = [\"Model 1\", \"Model 2\", \"Model 3\", \"Model 4\"]\n",
    "plot = radar_plot(data=data, model_names=model_names)\n",
    "plot.show()"
   ]
  }
 ],
 "metadata": {
  "kernelspec": {
   "display_name": "Python 3 (ipykernel)",
   "language": "python",
   "name": "python3"
  },
  "language_info": {
   "codemirror_mode": {
    "name": "ipython",
    "version": 3
   },
   "file_extension": ".py",
   "mimetype": "text/x-python",
   "name": "python",
   "nbconvert_exporter": "python",
   "pygments_lexer": "ipython3",
   "version": "3.9.13"
  }
 },
 "nbformat": 4,
 "nbformat_minor": 5
}
