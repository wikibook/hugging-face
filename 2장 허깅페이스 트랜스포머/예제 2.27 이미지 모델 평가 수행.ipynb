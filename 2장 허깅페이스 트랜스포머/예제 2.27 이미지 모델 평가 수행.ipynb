{
 "cells": [
  {
   "cell_type": "code",
   "execution_count": null,
   "id": "e41fc33d",
   "metadata": {
    "vscode": {
     "languageId": "plaintext"
    }
   },
   "outputs": [],
   "source": [
    "import torch\n",
    "import evaluate\n",
    "import numpy as np\n",
    "from datasets import load_dataset\n",
    "from transformers import AutoImageProcessor, AutoModelForImageClassification\n",
    "\n",
    "dataset = load_dataset(\"cifar10\", split=\"test[:1000]\")\n",
    "model_name = \"nateraw/vit-base-patch16-224-cifar10\"\n",
    "model = AutoModelForImageClassification.from_pretrained(model_name)\n",
    "image_processor = AutoImageProcessor.from_pretrained(model_name)\n",
    "\n",
    "model.eval()\n",
    "batch_size = 32\n",
    "logits, labels = [], []\n",
    "\n",
    "for i in range(0, len(dataset), batch_size):\n",
    "    batch = dataset[i : i + batch_size]\n",
    "\n",
    "    with torch.no_grad():\n",
    "        inputs = image_processor(batch[\"img\"], return_tensors=\"pt\")\n",
    "        outputs = model(inputs[\"pixel_values\"])\n",
    "\n",
    "    logits.extend(outputs.logits.cpu().numpy())\n",
    "    labels.extend(batch[\"label\"])\n",
    "\n",
    "preds = np.argmax(logits, axis=-1)\n",
    "\n",
    "metric = evaluate.load(\"accuracy\")\n",
    "accuracy = metric.compute(predictions=preds, references=labels)\n",
    "print(accuracy)\n",
    "\n",
    "metric = evaluate.load(\"f1\")\n",
    "f1 = metric.compute(predictions=preds, references=labels, average=\"macro\")\n",
    "print(f1)\n",
    "\n",
    "comparison = evaluate.load(\"exact_match\", module_type=\"comparison\")\n",
    "exact_match = comparison.compute(predictions1=preds, predictions2=labels)\n",
    "print(exact_match)\n",
    "\n",
    "measurement = evaluate.load(\"label_distribution\", module_type=\"measurement\")\n",
    "distribution = measurement.compute(data=labels)\n",
    "print(distribution)\n"
   ]
  }
 ],
 "metadata": {
  "kernelspec": {
   "display_name": "Python 3 (ipykernel)",
   "language": "python",
   "name": "python3"
  },
  "language_info": {
   "codemirror_mode": {
    "name": "ipython",
    "version": 3
   },
   "file_extension": ".py",
   "mimetype": "text/x-python",
   "name": "python",
   "nbconvert_exporter": "python",
   "pygments_lexer": "ipython3",
   "version": "3.9.13"
  }
 },
 "nbformat": 4,
 "nbformat_minor": 5
}
