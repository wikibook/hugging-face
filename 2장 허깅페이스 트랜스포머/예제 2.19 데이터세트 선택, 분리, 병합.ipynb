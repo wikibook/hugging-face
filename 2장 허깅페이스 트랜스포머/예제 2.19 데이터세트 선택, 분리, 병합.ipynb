{
 "cells": [
  {
   "cell_type": "code",
   "execution_count": null,
   "id": "39d707db",
   "metadata": {},
   "outputs": [],
   "source": [
    "from datasets import load_dataset\n",
    "from datasets import concatenate_datasets\n",
    "\n",
    "dataset = load_dataset(\"squad\", split=\"train[:10]\")\n",
    "\n",
    "chunk1 = dataset.select([0, 1])\n",
    "chunk2 = dataset.shard(num_shards=2, index=0)\n",
    "chunk3 = dataset.shard(num_shards=2, index=1)\n",
    "concat_dataset = concatenate_datasets([chunk1, chunk2, chunk3])\n",
    "\n",
    "print(len(chunk1))\n",
    "print(len(chunk2))\n",
    "print(len(chunk3))\n",
    "print(len(concat_dataset))"
   ]
  }
 ],
 "metadata": {
  "kernelspec": {
   "display_name": "Python 3 (ipykernel)",
   "language": "python",
   "name": "python3"
  },
  "language_info": {
   "codemirror_mode": {
    "name": "ipython",
    "version": 3
   },
   "file_extension": ".py",
   "mimetype": "text/x-python",
   "name": "python",
   "nbconvert_exporter": "python",
   "pygments_lexer": "ipython3",
   "version": "3.9.13"
  }
 },
 "nbformat": 4,
 "nbformat_minor": 5
}
