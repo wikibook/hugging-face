{
 "cells": [
  {
   "cell_type": "code",
   "execution_count": null,
   "id": "39d707db",
   "metadata": {},
   "outputs": [],
   "source": [
    "from datasets import load_dataset\n",
    "from transformers import BertTokenizer\n",
    "\n",
    "def filter_short_context(data):\n",
    "    return len(data[\"context\"]) <= 1024\n",
    "\n",
    "def tokenize_function(tokenizer, data):\n",
    "    inputs = [\n",
    "        f\"{question} [SEP] {context}\"\n",
    "        for question, context in zip(data[\"question\"], data[\"context\"])\n",
    "    ]\n",
    "    model_inputs = tokenizer(\n",
    "        inputs,\n",
    "        max_length=512,\n",
    "        padding=\"max_length\",\n",
    "        truncation=True,\n",
    "        return_tensors=\"pt\"\n",
    "    )\n",
    "    return model_inputs\n",
    "\n",
    "dataset = load_dataset(\"squad\", split=\"train[:10]\")\n",
    "tokenizer = BertTokenizer.from_pretrained(\"bert-base-uncased\")\n",
    "\n",
    "filtered_dataset = dataset.filter(filter_short_context)\n",
    "tokenized_dataset = filtered_dataset.map(\n",
    "    lambda x: tokenize_function(tokenizer, x),\n",
    "    batched=True,\n",
    "    remove_columns=dataset.column_names\n",
    ")\n",
    "tokenized_dataset.set_format(\n",
    "    type=\"torch\",\n",
    "    columns=[\"input_ids\", \"token_type_ids\", \"attention_mask\"]\n",
    ")\n",
    "print(tokenized_dataset)\n",
    "print(tokenized_dataset[0])"
   ]
  }
 ],
 "metadata": {
  "kernelspec": {
   "display_name": "Python 3 (ipykernel)",
   "language": "python",
   "name": "python3"
  },
  "language_info": {
   "codemirror_mode": {
    "name": "ipython",
    "version": 3
   },
   "file_extension": ".py",
   "mimetype": "text/x-python",
   "name": "python",
   "nbconvert_exporter": "python",
   "pygments_lexer": "ipython3",
   "version": "3.9.13"
  }
 },
 "nbformat": 4,
 "nbformat_minor": 5
}
