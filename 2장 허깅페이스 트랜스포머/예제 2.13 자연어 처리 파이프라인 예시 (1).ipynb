{
 "cells": [
  {
   "cell_type": "code",
   "execution_count": null,
   "id": "39d707db",
   "metadata": {},
   "outputs": [],
   "source": [
    "import torch\n",
    "import torch.nn.functional as F\n",
    "from transformers import pipeline\n",
    "\n",
    "pipe = pipeline(\n",
    "    task=\"text-classification\",\n",
    "    model=\"cardiffnlp/twitter-roberta-base-sentiment-latest\"\n",
    ")\n",
    "raw_text = [\n",
    "    \"I love you.\",\n",
    "    \"I hate you.\",\n",
    "    \"I meet with you.\"\n",
    "]\n",
    "\n",
    "inputs = pipe.tokenizer(raw_text, padding=True, return_tensors=\"pt\")\n",
    "outputs = pipe.model(inputs[\"input_ids\"])\n",
    "probabilities = F.softmax(outputs.logits, dim=1)\n",
    "prediction = []\n",
    "for prob in probabilities:\n",
    "    max_idx = torch.argmax(prob).item()\n",
    "    class_name = pipe.model.config.id2label[max_idx]\n",
    "    score = prob[max_idx].item()\n",
    "    prediction.append({\"label\": class_name, \"score\": score})\n",
    "\n",
    "print(\"- raw text:\")\n",
    "print(raw_text)\n",
    "\n",
    "print(\"- input_ids:\")\n",
    "print(inputs[\"input_ids\"])\n",
    "\n",
    "print(\"- logits:\")\n",
    "print(outputs[\"logits\"])\n",
    "\n",
    "print(\"- prediction:\")\n",
    "print(prediction)"
   ]
  }
 ],
 "metadata": {
  "kernelspec": {
   "display_name": "Python 3 (ipykernel)",
   "language": "python",
   "name": "python3"
  },
  "language_info": {
   "codemirror_mode": {
    "name": "ipython",
    "version": 3
   },
   "file_extension": ".py",
   "mimetype": "text/x-python",
   "name": "python",
   "nbconvert_exporter": "python",
   "pygments_lexer": "ipython3",
   "version": "3.9.13"
  }
 },
 "nbformat": 4,
 "nbformat_minor": 5
}
