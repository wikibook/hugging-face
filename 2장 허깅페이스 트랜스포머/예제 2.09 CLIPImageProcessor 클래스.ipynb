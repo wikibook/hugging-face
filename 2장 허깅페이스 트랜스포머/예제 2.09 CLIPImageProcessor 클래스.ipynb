{
 "cells": [
  {
   "cell_type": "code",
   "execution_count": null,
   "id": "39d707db",
   "metadata": {},
   "outputs": [],
   "source": [
    "from datasets import load_dataset\n",
    "from transformers import CLIPImageProcessor\n",
    "\n",
    "dataset = load_dataset(\"huggingface/cats-image\")\n",
    "image = dataset[\"test\"][\"image\"][0]\n",
    "\n",
    "image_processor = CLIPImageProcessor.from_pretrained(\"openai/clip-vit-base-patch32\")\n",
    "pixel_values = image_processor(\n",
    "    images=image,\n",
    "    image_mean=[0.48145466, 0.4578275, 0.40821073],\n",
    "    image_std=[0.26862954, 0.26130258, 0.27577711],\n",
    "    do_convert_rgb=True,\n",
    "    return_tensors=\"pt\"\n",
    ")\n",
    "\n",
    "print(pixel_values[\"pixel_values\"].shape)\n",
    "print(pixel_values)"
   ]
  }
 ],
 "metadata": {
  "kernelspec": {
   "display_name": "Python 3 (ipykernel)",
   "language": "python",
   "name": "python3"
  },
  "language_info": {
   "codemirror_mode": {
    "name": "ipython",
    "version": 3
   },
   "file_extension": ".py",
   "mimetype": "text/x-python",
   "name": "python",
   "nbconvert_exporter": "python",
   "pygments_lexer": "ipython3",
   "version": "3.9.13"
  }
 },
 "nbformat": 4,
 "nbformat_minor": 5
}
