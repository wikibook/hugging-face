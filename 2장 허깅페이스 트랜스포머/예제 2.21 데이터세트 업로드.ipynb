{
 "cells": [
  {
   "cell_type": "code",
   "execution_count": null,
   "id": "39d707db",
   "metadata": {},
   "outputs": [],
   "source": [
    "import os\n",
    "from collections import defaultdict\n",
    "from datasets import Dataset, Image, DatasetDict\n",
    "\n",
    "data = defaultdict(list)\n",
    "folder_name = \"../images\"\n",
    "for file_name in os.listdir(folder_name):\n",
    "    name = os.path.splitext(file_name)[0]\n",
    "    path = os.path.join(folder_name, file_name)\n",
    "\n",
    "    data[\"name\"].append(name)\n",
    "    data[\"image\"].append(path)\n",
    "\n",
    "dataset = Dataset.from_dict(data).cast_column(\"image\", Image())\n",
    "print(data)\n",
    "print(dataset[0])\n",
    "\n",
    "datasetdict = DatasetDict(\n",
    "    {\n",
    "        \"train\": dataset.select(range(5)),\n",
    "        \"valid\": dataset.select(range(5, 10)),\n",
    "        \"test\": dataset.select(range(10, len(dataset)))\n",
    "    }\n",
    ")\n",
    "\n",
    "hub_name = \"<user_name>/<repo_name>\" # 데이터세트 저장소 경로 입력\n",
    "token = \"hf_###...\" # 토큰 입력\n",
    "datasetdict.push_to_hub(hub_name, token=token)"
   ]
  }
 ],
 "metadata": {
  "kernelspec": {
   "display_name": "Python 3 (ipykernel)",
   "language": "python",
   "name": "python3"
  },
  "language_info": {
   "codemirror_mode": {
    "name": "ipython",
    "version": 3
   },
   "file_extension": ".py",
   "mimetype": "text/x-python",
   "name": "python",
   "nbconvert_exporter": "python",
   "pygments_lexer": "ipython3",
   "version": "3.9.13"
  }
 },
 "nbformat": 4,
 "nbformat_minor": 5
}
