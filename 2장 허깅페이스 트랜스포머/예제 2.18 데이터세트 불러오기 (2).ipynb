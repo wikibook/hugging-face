{
 "cells": [
  {
   "cell_type": "code",
   "execution_count": null,
   "id": "39d707db",
   "metadata": {},
   "outputs": [],
   "source": [
    "from datasets import load_dataset\n",
    "\n",
    "dataset1 = load_dataset(path=\"../datasets\")\n",
    "dataset2 = load_dataset(path=\"json\", data_dir=\"../datasets\")\n",
    "dataset3 = load_dataset(path=\"json\", data_files={\"train\": \"../datasets/train.jsonl\", \"validation\": \"../datasets/val.jsonl\"})\n",
    "\n",
    "print(dataset1[\"train\"][0])\n",
    "print(dataset2[\"train\"][0])\n",
    "print(dataset3[\"train\"][0])"
   ]
  }
 ],
 "metadata": {
  "kernelspec": {
   "display_name": "Python 3 (ipykernel)",
   "language": "python",
   "name": "python3"
  },
  "language_info": {
   "codemirror_mode": {
    "name": "ipython",
    "version": 3
   },
   "file_extension": ".py",
   "mimetype": "text/x-python",
   "name": "python",
   "nbconvert_exporter": "python",
   "pygments_lexer": "ipython3",
   "version": "3.9.13"
  }
 },
 "nbformat": 4,
 "nbformat_minor": 5
}
