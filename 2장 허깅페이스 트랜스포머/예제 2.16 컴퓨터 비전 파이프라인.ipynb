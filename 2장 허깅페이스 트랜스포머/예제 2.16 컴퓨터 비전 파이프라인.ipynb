{
 "cells": [
  {
   "cell_type": "code",
   "execution_count": null,
   "id": "39d707db",
   "metadata": {},
   "outputs": [],
   "source": [
    "from datasets import load_dataset\n",
    "from transformers import pipeline\n",
    "\n",
    "pipe = pipeline(\n",
    "    task=\"image-classification\",\n",
    "    model=\"google/vit-base-patch16-224\",\n",
    "    model_kwargs={\n",
    "        \"hidden_act\": \"gelu\" # relu\n",
    "    }\n",
    ")\n",
    "\n",
    "dataset = load_dataset(\"huggingface/cats-image\")\n",
    "inputs = dataset[\"test\"][\"image\"][0]\n",
    "outputs = pipe(inputs)\n",
    "print(outputs)"
   ]
  }
 ],
 "metadata": {
  "kernelspec": {
   "display_name": "Python 3 (ipykernel)",
   "language": "python",
   "name": "python3"
  },
  "language_info": {
   "codemirror_mode": {
    "name": "ipython",
    "version": 3
   },
   "file_extension": ".py",
   "mimetype": "text/x-python",
   "name": "python",
   "nbconvert_exporter": "python",
   "pygments_lexer": "ipython3",
   "version": "3.9.13"
  }
 },
 "nbformat": 4,
 "nbformat_minor": 5
}
