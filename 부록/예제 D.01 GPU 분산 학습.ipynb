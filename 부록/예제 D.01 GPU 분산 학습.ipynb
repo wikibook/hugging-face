{
 "cells": [
  {
   "cell_type": "code",
   "execution_count": null,
   "id": "f7e3e32b",
   "metadata": {},
   "outputs": [],
   "source": [
    "!pip3 install accelerate"
   ]
  },
  {
   "cell_type": "code",
   "execution_count": null,
   "id": "b8dcb51f",
   "metadata": {},
   "outputs": [],
   "source": [
    "# TPU 환경\n",
    "# pip3 uninstall -y tensorflow\n",
    "# pip3 install accelerate==0.26.0"
   ]
  },
  {
   "cell_type": "code",
   "execution_count": null,
   "id": "4875ef3c",
   "metadata": {},
   "outputs": [],
   "source": [
    "# TPU 환경\n",
    "# import os\n",
    "# os.environ[\"TPU_NAME\"] = os.environ[\"TPU_WORKER_ID\"]\n",
    "# os.environ.pop('TPU_PROCESS_ADDRESSES')\n",
    "# os.environ.pop('CLOUD_TPU_TASK_ID')"
   ]
  },
  {
   "cell_type": "code",
   "execution_count": null,
   "id": "da11820c",
   "metadata": {},
   "outputs": [],
   "source": [
    "from datasets import load_dataset\n",
    "from transformers import BartTokenizerFast, BartForConditionalGeneration\n",
    "\n",
    "def preprocess_data(example, tokenizer):\n",
    "    return tokenizer(\n",
    "        example[\"document\"],\n",
    "        text_target=example[\"summary\"],\n",
    "        truncation=True\n",
    "    )\n",
    "\n",
    "model_name = \"gogamza/kobart-base-v2\"\n",
    "tokenizer = BartTokenizerFast.from_pretrained(model_name)\n",
    "model = BartForConditionalGeneration.from_pretrained(model_name)\n",
    "\n",
    "dataset = load_dataset(\"daekeun-ml/naver-news-summarization-ko\")\n",
    "print(dataset)\n",
    "\n",
    "tokenizer.model_max_length = model.config.max_position_embeddings\n",
    "processed_dataset = dataset.map(\n",
    "    lambda example: preprocess_data(example, tokenizer),\n",
    "    batched=True,\n",
    "    remove_columns=dataset[\"train\"].column_names\n",
    ")\n",
    "\n",
    "sample = processed_dataset[\"train\"][\"labels\"][0]\n",
    "print(sample)\n",
    "print(tokenizer.decode(sample))"
   ]
  },
  {
   "cell_type": "code",
   "execution_count": null,
   "id": "f4f1abfb",
   "metadata": {},
   "outputs": [],
   "source": [
    "import torch\n",
    "from torch.utils.data import DataLoader\n",
    "from transformers import DataCollatorForSeq2Seq\n",
    "from accelerate.utils import set_seed\n",
    "from accelerate import Accelerator, notebook_launcher\n",
    "\n",
    "def create_dataloaders(batch_size):\n",
    "    seq2seq_collator = DataCollatorForSeq2Seq(\n",
    "        tokenizer=tokenizer,\n",
    "        padding=\"longest\",\n",
    "        return_tensors=\"pt\"\n",
    "    )\n",
    "    train_dataloader = DataLoader(\n",
    "        processed_dataset[\"train\"],\n",
    "        shuffle=True,\n",
    "        batch_size=batch_size,\n",
    "        collate_fn=seq2seq_collator\n",
    "    )\n",
    "    eval_dataloader = DataLoader(\n",
    "        processed_dataset[\"validation\"],\n",
    "        shuffle=False,\n",
    "        batch_size=batch_size,\n",
    "        collate_fn=seq2seq_collator\n",
    "    )\n",
    "    return train_dataloader, eval_dataloader\n",
    "\n",
    "def training_loop(model, epochs, seed, mixed_precision, batch_size, logging_steps):\n",
    "    set_seed(seed)\n",
    "    accelerator = Accelerator(mixed_precision=mixed_precision)\n",
    "    train_dataloader, eval_dataloader = create_dataloaders(batch_size)\n",
    "\n",
    "    optimizer = torch.optim.Adam(params=model.parameters(), lr=5e-5)\n",
    "    model, optimizer, train_dataloader, eval_dataloader = accelerator.prepare(\n",
    "        model, optimizer, train_dataloader, eval_dataloader\n",
    "    )\n",
    "\n",
    "    for epoch in range(epochs):\n",
    "        model.train()\n",
    "        for step, batch in enumerate(train_dataloader):\n",
    "            outputs = model(**batch)\n",
    "            loss = outputs.loss\n",
    "            accelerator.backward(loss)\n",
    "            optimizer.step()\n",
    "            optimizer.zero_grad()\n",
    "            if step % logging_steps == 0:\n",
    "                accelerator.print(f\"epoch {epoch}: {loss.item()}\")\n",
    "\n",
    "model = BartForConditionalGeneration.from_pretrained(model_name)\n",
    "args = (model, 5, 2024, \"fp16\", 8, 100)\n",
    "notebook_launcher(training_loop, args, num_processes=4)"
   ]
  }
 ],
 "metadata": {
  "kernelspec": {
   "display_name": "Python 3 (ipykernel)",
   "language": "python",
   "name": "python3"
  },
  "language_info": {
   "codemirror_mode": {
    "name": "ipython",
    "version": 3
   },
   "file_extension": ".py",
   "mimetype": "text/x-python",
   "name": "python",
   "nbconvert_exporter": "python",
   "pygments_lexer": "ipython3",
   "version": "3.9.13"
  }
 },
 "nbformat": 4,
 "nbformat_minor": 5
}
