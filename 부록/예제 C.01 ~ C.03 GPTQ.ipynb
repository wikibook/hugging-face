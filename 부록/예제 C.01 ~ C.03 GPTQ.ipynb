{
 "cells": [
  {
   "cell_type": "code",
   "execution_count": null,
   "id": "f7e3e32b",
   "metadata": {},
   "outputs": [],
   "source": [
    "!pip3 install auto-gptq accelerate optimum"
   ]
  },
  {
   "cell_type": "code",
   "execution_count": null,
   "id": "da11820c",
   "metadata": {},
   "outputs": [],
   "source": [
    "from transformers import GPTQConfig\n",
    "from transformers import AutoModelForCausalLM, AutoTokenizer\n",
    "\n",
    "model_name = \"facebook/opt-125m\"\n",
    "tokenizer = AutoTokenizer.from_pretrained(model_name)\n",
    "\n",
    "quantization_config = GPTQConfig(\n",
    "    bits=4,\n",
    "    dataset=\"c4\",\n",
    "    tokenizer=tokenizer\n",
    ")\n",
    "\n",
    "quantized_model = AutoModelForCausalLM.from_pretrained(\n",
    "    model_name,\n",
    "    device_map=\"auto\",\n",
    "    quantization_config=quantization_config\n",
    ")"
   ]
  },
  {
   "cell_type": "code",
   "execution_count": null,
   "id": "4f0e871c",
   "metadata": {},
   "outputs": [],
   "source": [
    "from transformers import pipeline\n",
    "\n",
    "origin_generator = pipeline(\"text-generation\", model=\"facebook/opt-125m\")\n",
    "quantized_generator = pipeline(\"text-generation\", model=quantized_model, tokenizer=tokenizer)\n",
    "\n",
    "input_text_list = [\n",
    "    \"In the future, technology wil\",\n",
    "    \"What are we having for dinner?\",\n",
    "    \"What day comes after Monday?\"\n",
    "]\n",
    "\n",
    "print(\"원본 모델의 출력 결과:\")\n",
    "for input_text in input_text_list:\n",
    "    print(origin_generator(input_text))\n",
    "print(\"양자화 모델의 출력 결과:\")\n",
    "for input_text in input_text_list:\n",
    "    print(quantized_generator(input_text))"
   ]
  },
  {
   "cell_type": "code",
   "execution_count": null,
   "id": "f4f1abfb",
   "metadata": {},
   "outputs": [],
   "source": [
    "import time\n",
    "import numpy as np\n",
    "\n",
    "def measure_inference_time(generator, input_text, iterations=10):\n",
    "    times = []\n",
    "    for _ in range(iterations):\n",
    "        start_time = time.time()\n",
    "        generator(input_text)\n",
    "        end_time = time.time()\n",
    "        times.append(end_time - start_time)\n",
    "    avg_time = np.mean(times)\n",
    "    return avg_time\n",
    "\n",
    "def calculate_model_size(model):\n",
    "    total_params = sum(p.numel() for p in model.parameters())\n",
    "    total_memory = sum(p.numel() * p.element_size() for p in model.parameters())\n",
    "    total_memory_mb = total_memory / (1024 ** 2)\n",
    "    return total_memory_mb, total_params\n",
    "\n",
    "test_input = \"Once upon a time in a land far, far away, there was a small village.\"\n",
    "\n",
    "size_original, total_params_original = calculate_model_size(origin_generator.model)\n",
    "avg_inference_time_original = measure_inference_time(origin_generator, test_input)\n",
    "\n",
    "size_quantized, total_params_quantized = calculate_model_size(quantized_generator.model)\n",
    "avg_inference_time_quantized = measure_inference_time(quantized_generator, test_input)\n",
    "\n",
    "print(\"원본 모델:\")\n",
    "print(f\"- 매개변수 개수: {total_params_original:,}\")\n",
    "print(f\"- 모델 크기: {size_original:.2f} MB\")\n",
    "print(f\"- 평균 추론 시간: {avg_inference_time_original:.4f} sec\")\n",
    "\n",
    "print(\"양자화 모델:\")\n",
    "print(f\"- 매개변수 개수: {total_params_quantized:,}\")\n",
    "print(f\"- 모델 크기: {size_quantized:.2f} MB\")\n",
    "print(f\"- 평균 추론 시간: {avg_inference_time_quantized:.4f} sec\")"
   ]
  }
 ],
 "metadata": {
  "kernelspec": {
   "display_name": "Python 3 (ipykernel)",
   "language": "python",
   "name": "python3"
  },
  "language_info": {
   "codemirror_mode": {
    "name": "ipython",
    "version": 3
   },
   "file_extension": ".py",
   "mimetype": "text/x-python",
   "name": "python",
   "nbconvert_exporter": "python",
   "pygments_lexer": "ipython3",
   "version": "3.9.13"
  }
 },
 "nbformat": 4,
 "nbformat_minor": 5
}
