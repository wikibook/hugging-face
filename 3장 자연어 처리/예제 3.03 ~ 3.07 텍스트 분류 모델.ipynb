{
 "cells": [
  {
   "cell_type": "code",
   "execution_count": null,
   "id": "e41fc33d",
   "metadata": {},
   "outputs": [],
   "source": [
    "from datasets import load_dataset\n",
    "from transformers import BertTokenizer, BertForSequenceClassification\n",
    "\n",
    "def preprocess_data(example, tokenizer):\n",
    "    return tokenizer(example[\"document\"], truncation=True)\n",
    "\n",
    "model_name = \"google-bert/bert-base-multilingual-uncased\"\n",
    "tokenizer = BertTokenizer.from_pretrained(model_name)\n",
    "model = BertForSequenceClassification.from_pretrained(model_name, num_labels=2)\n",
    "\n",
    "dataset = load_dataset(\"nsmc\", trust_remote_code=True)\n",
    "processed_dataset = dataset.map(\n",
    "    lambda example: preprocess_data(example, tokenizer),\n",
    "    batched=True,\n",
    "    remove_columns=[\"id\", \"document\"]\n",
    ").rename_column(\"label\", \"labels\")\n",
    "\n",
    "print(dataset)\n",
    "print(processed_dataset)\n",
    "print(dataset[\"train\"][0])\n",
    "print(processed_dataset[\"train\"][0])"
   ]
  },
  {
   "cell_type": "code",
   "execution_count": null,
   "id": "ca996961",
   "metadata": {},
   "outputs": [],
   "source": [
    "from torch.utils.data import DataLoader\n",
    "from transformers import DataCollatorWithPadding\n",
    "\n",
    "max_length_collator = DataCollatorWithPadding(\n",
    "    tokenizer=tokenizer,\n",
    "    padding=\"max_length\"\n",
    ")\n",
    "max_length_dataloader = DataLoader(\n",
    "    processed_dataset[\"train\"],\n",
    "    collate_fn=max_length_collator,\n",
    "    batch_size=4,\n",
    "    shuffle=False\n",
    ")\n",
    "max_length_iterator = iter(max_length_dataloader)\n",
    "max_lnegth_batch = next(max_length_iterator)\n",
    "print(\"max_length 패딩 입력 id shape :\", max_lnegth_batch[\"input_ids\"].shape)\n",
    "\n",
    "longest_collator = DataCollatorWithPadding(\n",
    "    tokenizer=tokenizer,\n",
    "    padding=\"longest\"\n",
    ")\n",
    "longest_dataloader = DataLoader(\n",
    "    processed_dataset[\"train\"],\n",
    "    collate_fn=longest_collator,\n",
    "    batch_size=4,\n",
    "    shuffle=False\n",
    ")\n",
    "longest_iterator = iter(longest_dataloader)\n",
    "longest_batch = next(longest_iterator)\n",
    "print(\"longest 패딩 입력 id shape :\", longest_batch[\"input_ids\"].shape)"
   ]
  },
  {
   "cell_type": "code",
   "execution_count": null,
   "id": "f3fe00b8",
   "metadata": {},
   "outputs": [],
   "source": [
    "from transformers import TrainingArguments, Trainer\n",
    "\n",
    "training_args = TrainingArguments(\n",
    "    output_dir=\"text-classification\",\n",
    "    per_device_train_batch_size=8,\n",
    "    per_device_eval_batch_size=16,\n",
    "    learning_rate=5e-5,\n",
    "    num_train_epochs=1,\n",
    "    eval_steps=200,\n",
    "    logging_steps=200,\n",
    "    seed=42\n",
    ")\n",
    "\n",
    "trainer = Trainer(\n",
    "    model=model,\n",
    "    args=training_args,\n",
    "    data_collator=longest_collator,\n",
    "    train_dataset=processed_dataset[\"train\"].select(range(10000)),\n",
    "    eval_dataset=processed_dataset[\"test\"].select(range(100))\n",
    ")\n",
    "\n",
    "trainer.train()"
   ]
  },
  {
   "cell_type": "code",
   "execution_count": null,
   "id": "4f2642b5",
   "metadata": {},
   "outputs": [],
   "source": [
    "import torch\n",
    "\n",
    "model.eval()\n",
    "device = torch.device(\"cuda\" if torch.cuda.is_available() else \"cpu\")\n",
    "model.to(device)\n",
    "\n",
    "text = \"진짜 재밌었어요. 또 보러 갈거에요\"\n",
    "inputs = tokenizer(text, return_tensors=\"pt\")\n",
    "\n",
    "with torch.no_grad():\n",
    "    outputs = model(**inputs.to(device))\n",
    "    print(outputs.logits)\n",
    "    print(outputs.logits.argmax())"
   ]
  },
  {
   "cell_type": "code",
   "execution_count": null,
   "id": "2d2703ab",
   "metadata": {},
   "outputs": [],
   "source": [
    "import evaluate\n",
    "\n",
    "yhat = trainer.predict(processed_dataset[\"test\"])\n",
    "predictions = yhat.predictions.argmax(axis=1)\n",
    "references = yhat.label_ids\n",
    "\n",
    "metric = evaluate.load(\"accuracy\")\n",
    "accuracy = metric.compute(predictions=predictions, references=references)\n",
    "print(accuracy)\n",
    "\n",
    "metric = evaluate.load(\"f1\")\n",
    "f1 = metric.compute(predictions=predictions, references=references)\n",
    "print(f1)"
   ]
  }
 ],
 "metadata": {
  "kernelspec": {
   "display_name": "Python 3 (ipykernel)",
   "language": "python",
   "name": "python3"
  },
  "language_info": {
   "codemirror_mode": {
    "name": "ipython",
    "version": 3
   },
   "file_extension": ".py",
   "mimetype": "text/x-python",
   "name": "python",
   "nbconvert_exporter": "python",
   "pygments_lexer": "ipython3",
   "version": "3.10.12"
  }
 },
 "nbformat": 4,
 "nbformat_minor": 5
}
