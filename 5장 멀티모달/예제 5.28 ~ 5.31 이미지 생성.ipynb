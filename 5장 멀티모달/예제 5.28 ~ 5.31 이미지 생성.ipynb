{
 "cells": [
  {
   "cell_type": "code",
   "execution_count": null,
   "id": "51f84768",
   "metadata": {
    "vscode": {
     "languageId": "plaintext"
    }
   },
   "outputs": [],
   "source": [
    "import torch\n",
    "import matplotlib.pyplot as plt\n",
    "from diffusers import StableDiffusion3Pipeline\n",
    "\n",
    "token = \"hf_###...\"  # 토큰 입력\n",
    "model_name = \"stabilityai/stable-diffusion-3-medium-diffusers\"\n",
    "\n",
    "gpu_total_memory_gb = torch.cuda.get_device_properties(\"cuda\").total_memory / 1024**3\n",
    "torch_dtype = torch.float16 if gpu_total_memory_gb < 24 else torch.float32\n",
    "pipe = StableDiffusion3Pipeline.from_pretrained(\n",
    "    model_name, token=token, torch_dtype=torch_dtype\n",
    ")\n",
    "pipe.to(\"cuda\")\n",
    "\n",
    "generator = torch.Generator(device=\"cuda\").manual_seed(3)\n",
    "image = pipe(\n",
    "    prompt=\"gray cat holding a yellow ball\",\n",
    "    negative_prompt=\"\",\n",
    "    num_inference_steps=28,\n",
    "    guidance_scale=7.0,\n",
    "    generator=generator\n",
    ").images[0]\n",
    "plt.imshow(image)\n",
    "plt.show()\n"
   ]
  },
  {
   "cell_type": "code",
   "execution_count": null,
   "id": "9f3d3d10",
   "metadata": {
    "vscode": {
     "languageId": "plaintext"
    }
   },
   "outputs": [],
   "source": [
    "image = pipe(\n",
    "    prompt=\"gray cat holding star shaped blue ball\",\n",
    "    negative_prompt=\"\",\n",
    "    num_inference_steps=28,\n",
    "    guidance_scale=7.0,\n",
    "    generator=generator\n",
    ").images[0]\n",
    "plt.imshow(image)\n",
    "plt.show()\n"
   ]
  },
  {
   "cell_type": "code",
   "execution_count": null,
   "id": "7a698413",
   "metadata": {
    "vscode": {
     "languageId": "plaintext"
    }
   },
   "outputs": [],
   "source": [
    "prompt = \"There is a sleek gray cat with gleaming silver fur and vibrant emerald eyes. This cat's most treasured possession is a bright yellow ball that it carries everywhere. One can imagine the cat happily batting the ball around the garden.\"\n",
    "image = pipe(\n",
    "    prompt=prompt,\n",
    "    negative_prompt=\"\",\n",
    "    num_inference_steps=28,\n",
    "    guidance_scale=7.0,\n",
    "    max_sequence_length=512,\n",
    "    generator=generator\n",
    ").images[0]\n",
    "plt.imshow(image)\n",
    "plt.show()"
   ]
  },
  {
   "cell_type": "code",
   "execution_count": null,
   "id": "1d0ca18e",
   "metadata": {
    "vscode": {
     "languageId": "plaintext"
    }
   },
   "outputs": [],
   "source": [
    "prompt = \"There is a sleek gray cat with gleaming silver fur and vibrant emerald eyes. This cat's most treasured possession is a bright yellow ball that it carries everywhere. One can imagine the cat happily batting the ball around the garden.\"\n",
    "negative_prompt = \"Blurry, low quality, distorted features, multiple cats, dogs, humans, cartoon style, anime, sketchy, black and white, indoor setting, rainy weather, dark or gloomy atmosphere.\"\n",
    "image = pipe(\n",
    "    prompt=prompt,\n",
    "    negative_prompt=negative_prompt,\n",
    "    num_inference_steps=28,\n",
    "    guidance_scale=7.0,\n",
    "    max_sequence_length=512,\n",
    "    generator=generator\n",
    ").images[0]\n",
    "plt.imshow(image)\n",
    "plt.show()"
   ]
  }
 ],
 "metadata": {
  "kernelspec": {
   "display_name": "Python 3 (ipykernel)",
   "language": "python",
   "name": "python3"
  },
  "language_info": {
   "codemirror_mode": {
    "name": "ipython",
    "version": 3
   },
   "file_extension": ".py",
   "mimetype": "text/x-python",
   "name": "python",
   "nbconvert_exporter": "python",
   "pygments_lexer": "ipython3",
   "version": "3.9.13"
  }
 },
 "nbformat": 4,
 "nbformat_minor": 5
}
