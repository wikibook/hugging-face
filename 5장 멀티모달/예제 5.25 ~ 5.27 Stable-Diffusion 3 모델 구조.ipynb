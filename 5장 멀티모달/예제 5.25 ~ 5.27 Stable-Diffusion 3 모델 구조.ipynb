{
 "cells": [
  {
   "cell_type": "code",
   "execution_count": null,
   "id": "16c52da2",
   "metadata": {
    "vscode": {
     "languageId": "plaintext"
    }
   },
   "outputs": [],
   "source": [
    "import torch\n",
    "from diffusers import StableDiffusion3Pipeline\n",
    "\n",
    "token = \"hf_###...\"  # 토큰 입력\n",
    "model_name = \"stabilityai/stable-diffusion-3-medium-diffusers\"\n",
    "\n",
    "device = torch.device(\"cuda\" if torch.cuda.is_available() else \"cpu\")\n",
    "pipe = StableDiffusion3Pipeline.from_pretrained(\n",
    "    model_name, token=token, torch_dtype=torch.float16\n",
    ").to(device)\n",
    "print(pipe.config)"
   ]
  },
  {
   "cell_type": "code",
   "execution_count": null,
   "id": "ef58f70c",
   "metadata": {
    "vscode": {
     "languageId": "plaintext"
    }
   },
   "outputs": [],
   "source": [
    "prompt = [\"gray cat holding a yellow ball\"]\n",
    "prompt_2 = prompt\n",
    "prompt_3 = prompt\n",
    "num_images_per_prompt = 1\n",
    "clip_skip = None\n",
    "max_sequence_length = 256\n",
    "\n",
    "prompt_embed, pooled_prompt_embed = pipe._get_clip_prompt_embeds(\n",
    "    prompt=prompt,\n",
    "    device=\"cuda\",\n",
    "    num_images_per_prompt=num_images_per_prompt,\n",
    "    clip_skip=clip_skip,\n",
    "    clip_model_index=0\n",
    ")\n",
    "prompt_2_embed, pooled_prompt_2_embed = pipe._get_clip_prompt_embeds(\n",
    "    prompt=prompt_2,\n",
    "    device=\"cuda\",\n",
    "    num_images_per_prompt=num_images_per_prompt,\n",
    "    clip_skip=clip_skip,\n",
    "    clip_model_index=1\n",
    ")\n",
    "clip_prompt_embeds = torch.cat([prompt_embed, prompt_2_embed], dim=-1)\n",
    "\n",
    "t5_prompt_embed = pipe._get_t5_prompt_embeds(\n",
    "    prompt=prompt_3,\n",
    "    num_images_per_prompt=num_images_per_prompt,\n",
    "    max_sequence_length=max_sequence_length,\n",
    "    device=\"cuda\"\n",
    ")\n",
    "\n",
    "clip_prompt_embeds = torch.nn.functional.pad(\n",
    "    clip_prompt_embeds, (0, t5_prompt_embed.shape[-1] - clip_prompt_embeds.shape[-1])\n",
    ")\n",
    "\n",
    "prompt_embeds = torch.cat([clip_prompt_embeds, t5_prompt_embed], dim=-2)\n",
    "pooled_prompt_embeds = torch.cat([pooled_prompt_embed, pooled_prompt_2_embed], dim=-1)\n",
    "\n",
    "print(\"prompt_embed.shape:\", prompt_embed.shape)\n",
    "print(\"prompt2_embed.shape:\", prompt_2_embed.shape)\n",
    "print(\"t5_prompt_embed.shape:\", t5_prompt_embed.shape)\n",
    "print(\"prompt_embeds.shape:\", prompt_embeds.shape)\n",
    "print(\"pooled_prompt_embeds.shape:\", pooled_prompt_embeds.shape)"
   ]
  },
  {
   "cell_type": "code",
   "execution_count": null,
   "id": "0eeb6074",
   "metadata": {
    "vscode": {
     "languageId": "plaintext"
    }
   },
   "outputs": [],
   "source": [
    "for main_name, main_module in pipe.transformer.named_children():\n",
    "    print(main_name)\n",
    "    for sub_name, sub_module in main_module.named_children():\n",
    "        print(\"└\", sub_name)\n",
    "        for ssub_name, ssub_module in sub_module.named_children():\n",
    "            print(\"│  └\", ssub_name)\n",
    "            for sssub_name, sssub_module in ssub_module.named_children():\n",
    "                print(\"│    └\", sssub_name)"
   ]
  }
 ],
 "metadata": {
  "kernelspec": {
   "display_name": "Python 3 (ipykernel)",
   "language": "python",
   "name": "python3"
  },
  "language_info": {
   "codemirror_mode": {
    "name": "ipython",
    "version": 3
   },
   "file_extension": ".py",
   "mimetype": "text/x-python",
   "name": "python",
   "nbconvert_exporter": "python",
   "pygments_lexer": "ipython3",
   "version": "3.9.13"
  }
 },
 "nbformat": 4,
 "nbformat_minor": 5
}
