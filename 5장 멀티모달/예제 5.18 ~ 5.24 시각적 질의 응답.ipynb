{
 "cells": [
  {
   "cell_type": "code",
   "execution_count": null,
   "id": "6629aab6",
   "metadata": {
    "vscode": {
     "languageId": "plaintext"
    }
   },
   "outputs": [],
   "source": [
    "from datasets import load_dataset\n",
    "from transformers import ViltConfig\n",
    "\n",
    "def preprocess_data(example, config):\n",
    "    answers = example[\"answers\"]\n",
    "    answer_counts = {}\n",
    "    for answer_dict in answers:\n",
    "        answer_text = answer_dict[\"answer\"]\n",
    "        answer_counts[answer_text] = answer_counts.get(answer_text, 0) + 1\n",
    "\n",
    "    labels = []\n",
    "    scores = []\n",
    "    for answer_text, count in answer_counts.items():\n",
    "        if answer_text not in config.label2id:\n",
    "            continue\n",
    "        labels.append(config.label2id[answer_text])\n",
    "        score = min(1.0, count / 3)\n",
    "        scores.append(score)\n",
    "\n",
    "    example[\"labels\"] = labels\n",
    "    example[\"scores\"] = scores\n",
    "    return example\n",
    "\n",
    "config_name = \"dandelin/vilt-b32-finetuned-vqa\"\n",
    "config = ViltConfig.from_pretrained(config_name)\n",
    "\n",
    "dataset = load_dataset(\"s076923/vqa-v2-test\")\n",
    "processed_dataset = dataset[\"test\"].map(\n",
    "    lambda example: preprocess_data(example, config),\n",
    "    batched=False\n",
    ")\n",
    "print(processed_dataset[0])"
   ]
  },
  {
   "cell_type": "code",
   "execution_count": null,
   "id": "25001093",
   "metadata": {
    "vscode": {
     "languageId": "plaintext"
    }
   },
   "outputs": [],
   "source": [
    "import torch\n",
    "from torch.utils.data import Dataset\n",
    "from transformers import ViltProcessor\n",
    "\n",
    "class VQADataset(Dataset):\n",
    "    def __init__(self, dataset, config, processor):\n",
    "        self.dataset = dataset\n",
    "        self.config = config\n",
    "        self.processor = processor\n",
    "\n",
    "    def __len__(self):\n",
    "        return len(self.dataset)\n",
    "\n",
    "    def __getitem__(self, idx):\n",
    "        data = self.dataset[idx]\n",
    "\n",
    "        encoding = self.processor(\n",
    "            images=data[\"image\"],\n",
    "            text=data[\"question\"],\n",
    "            padding=\"max_length\",\n",
    "            truncation=True,\n",
    "            return_tensors=\"pt\"\n",
    "        )\n",
    "        encoding = {k: v[0] for k, v in encoding.items()}\n",
    "\n",
    "        targets = torch.zeros(len(self.config.id2label))\n",
    "        targets[data[\"labels\"]] = torch.tensor(data[\"scores\"])\n",
    "        encoding[\"labels\"] = targets\n",
    "\n",
    "        return encoding\n",
    "\n",
    "model_name = \"dandelin/vilt-b32-mlm\"\n",
    "processor = ViltProcessor.from_pretrained(model_name)\n",
    "vqa_dataset = VQADataset(dataset=processed_dataset, config=config, processor=processor)\n",
    "\n",
    "print(vqa_dataset[0].keys())\n",
    "print(processor.decode(vqa_dataset[0][\"input_ids\"]))\n",
    "labels = torch.nonzero(vqa_dataset[0][\"labels\"]).squeeze().tolist()\n",
    "print([config.id2label[label] for label in labels])"
   ]
  },
  {
   "cell_type": "code",
   "execution_count": null,
   "id": "96740a5b",
   "metadata": {
    "vscode": {
     "languageId": "plaintext"
    }
   },
   "outputs": [],
   "source": [
    "from transformers import ViltForQuestionAnswering\n",
    "\n",
    "device = torch.device(\"cuda\" if torch.cuda.is_available() else \"cpu\")\n",
    "model = ViltForQuestionAnswering.from_pretrained(\n",
    "    model_name, id2label=config.id2label, label2id=config.label2id\n",
    ").to(device)\n",
    "print(model.classifier)"
   ]
  },
  {
   "cell_type": "code",
   "execution_count": null,
   "id": "3e966b16",
   "metadata": {
    "vscode": {
     "languageId": "plaintext"
    }
   },
   "outputs": [],
   "source": [
    "from torch.utils.data import DataLoader\n",
    "\n",
    "def collate_fn(batch):\n",
    "    input_ids = [item[\"input_ids\"] for item in batch]\n",
    "    pixel_values = [item[\"pixel_values\"] for item in batch]\n",
    "    attention_mask = [item[\"attention_mask\"] for item in batch]\n",
    "    token_type_ids = [item[\"token_type_ids\"] for item in batch]\n",
    "    labels = [item[\"labels\"] for item in batch]\n",
    "    \n",
    "    encoding = processor.image_processor.pad(pixel_values, return_tensors=\"pt\")\n",
    "\n",
    "    batch = {\n",
    "        \"input_ids\": torch.stack(input_ids),\n",
    "        \"attention_mask\": torch.stack(attention_mask),\n",
    "        \"token_type_ids\": torch.stack(token_type_ids),\n",
    "        \"pixel_values\": encoding[\"pixel_values\"],\n",
    "        \"pixel_mask\": encoding[\"pixel_mask\"],\n",
    "        \"labels\": torch.stack(labels)\n",
    "    }\n",
    "    return batch\n",
    "\n",
    "dataloader = DataLoader(\n",
    "    vqa_dataset,\n",
    "    collate_fn=collate_fn,\n",
    "    batch_size=4,\n",
    "    shuffle=False\n",
    ")\n",
    "\n",
    "batch = next(iter(dataloader))\n",
    "for key, value in batch.items():\n",
    "    print(f\"{key}: {value.shape}\")"
   ]
  },
  {
   "cell_type": "code",
   "execution_count": null,
   "id": "2ccdbacd",
   "metadata": {
    "vscode": {
     "languageId": "plaintext"
    }
   },
   "outputs": [],
   "source": [
    "import numpy as np\n",
    "import matplotlib.pyplot as plt\n",
    "from PIL import Image\n",
    "\n",
    "def unnormalize_image(pixel_values, image_mean, image_std):\n",
    "    scaled = pixel_values * np.array(image_std)[:, None, None]\n",
    "    shifted = scaled + np.array(image_mean)[:, None, None]\n",
    "    uint8_image = (shifted * 255).astype(np.uint8)\n",
    "    return uint8_image.transpose(1, 2, 0)\n",
    "\n",
    "batch_idx = 1\n",
    "\n",
    "image = unnormalize_image(\n",
    "    pixel_values=batch[\"pixel_values\"][batch_idx].numpy(),\n",
    "    image_mean=processor.image_processor.image_mean,\n",
    "    image_std=processor.image_processor.image_std\n",
    ")\n",
    "print(\"Question:\", processor.decode(batch[\"input_ids\"][batch_idx]))\n",
    "\n",
    "labels = torch.nonzero(batch[\"labels\"][batch_idx]).flatten().tolist()\n",
    "label_names = [config.id2label[label] for label in labels]\n",
    "print(\"Possible answers:\", label_names)\n",
    "\n",
    "plt.imshow(Image.fromarray(image))\n",
    "plt.show()"
   ]
  },
  {
   "cell_type": "code",
   "execution_count": null,
   "id": "f319e687",
   "metadata": {
    "vscode": {
     "languageId": "plaintext"
    }
   },
   "outputs": [],
   "source": [
    "from transformers import Trainer, TrainingArguments\n",
    "\n",
    "training_args = TrainingArguments(\n",
    "    output_dir=\"VQA\",\n",
    "    num_train_epochs=20,\n",
    "    per_device_train_batch_size=8,\n",
    "    learning_rate=1e-4,\n",
    "    weight_decay=0.01,\n",
    "    logging_strategy=\"steps\",\n",
    "    logging_steps=20,\n",
    "    seed=42\n",
    ")\n",
    "\n",
    "trainer = Trainer(\n",
    "    model=model,\n",
    "    args=training_args,\n",
    "    train_dataset=vqa_dataset,\n",
    "    data_collator=collate_fn\n",
    ")\n",
    "\n",
    "trainer.train()"
   ]
  },
  {
   "cell_type": "code",
   "execution_count": null,
   "id": "3b167bed",
   "metadata": {
    "vscode": {
     "languageId": "plaintext"
    }
   },
   "outputs": [],
   "source": [
    "sample_index = 4\n",
    "sample = vqa_dataset[sample_index]\n",
    "\n",
    "print(\"Sample keys:\", sample.keys())\n",
    "print(\"Question:\", processor.decode(sample[\"input_ids\"]))\n",
    "\n",
    "sample = {k: v.unsqueeze(0).to(device) for k, v in sample.items()}\n",
    "\n",
    "model.eval()\n",
    "with torch.no_grad():\n",
    "    outputs = model(**sample)\n",
    "\n",
    "logits = outputs.logits\n",
    "predicted_probs = torch.sigmoid(logits)\n",
    "top_probs, top_classes = torch.topk(predicted_probs, 5)\n",
    "\n",
    "top_probs = top_probs.squeeze().tolist()\n",
    "top_classes = top_classes.squeeze().tolist()\n",
    "for prob, class_idx in zip(top_probs, top_classes):\n",
    "    answer = model.config.id2label[class_idx]\n",
    "    print(f\"Answer: {answer:<7} Probability: {prob:.4f}\")\n",
    "\n",
    "unnormalized_image = unnormalize_image(\n",
    "    pixel_values=vqa_dataset[sample_index][\"pixel_values\"].numpy(),\n",
    "    image_mean=processor.image_processor.image_mean,\n",
    "    image_std=processor.image_processor.image_std,\n",
    ")\n",
    "\n",
    "plt.imshow(Image.fromarray(unnormalized_image))\n",
    "plt.show()"
   ]
  }
 ],
 "metadata": {
  "kernelspec": {
   "display_name": "Python 3 (ipykernel)",
   "language": "python",
   "name": "python3"
  },
  "language_info": {
   "codemirror_mode": {
    "name": "ipython",
    "version": 3
   },
   "file_extension": ".py",
   "mimetype": "text/x-python",
   "name": "python",
   "nbconvert_exporter": "python",
   "pygments_lexer": "ipython3",
   "version": "3.9.13"
  }
 },
 "nbformat": 4,
 "nbformat_minor": 5
}
