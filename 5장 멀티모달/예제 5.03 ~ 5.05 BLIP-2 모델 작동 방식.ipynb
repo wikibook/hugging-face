{
 "cells": [
  {
   "cell_type": "code",
   "execution_count": null,
   "id": "6d3977dd",
   "metadata": {},
   "outputs": [],
   "source": [
    "import torch\n",
    "from datasets import load_dataset\n",
    "from transformers import Blip2Processor, Blip2ForConditionalGeneration\n",
    "\n",
    "model_name = \"Salesforce/blip2-opt-2.7b\"\n",
    "processor = Blip2Processor.from_pretrained(model_name)\n",
    "model = Blip2ForConditionalGeneration.from_pretrained(\n",
    "    model_name, torch_dtype=torch.float16, device_map=\"auto\"\n",
    ")\n",
    "\n",
    "dataset = load_dataset(\"huggingface/cats-image\")\n",
    "image = dataset[\"test\"][\"image\"][0]\n",
    "\n",
    "inputs = processor(images=image, return_tensors=\"pt\").to(\n",
    "    model.device, dtype=torch.float16\n",
    ")\n",
    "image_embeds = model.vision_model(\n",
    "    inputs[\"pixel_values\"], return_dict=True\n",
    ").last_hidden_state\n",
    "\n",
    "print(model.vision_model)\n",
    "print(image_embeds)\n",
    "print(image_embeds.shape)"
   ]
  },
  {
   "cell_type": "code",
   "execution_count": null,
   "id": "b9e4454f",
   "metadata": {},
   "outputs": [],
   "source": [
    "image_attention_mask = torch.ones(\n",
    "    image_embeds.size()[:-1], dtype=torch.long, device=model.device\n",
    ")\n",
    "query_tokens = model.query_tokens.expand(image_embeds.shape[0], -1, -1)\n",
    "\n",
    "query_outputs = model.qformer(\n",
    "    query_embeds=query_tokens,\n",
    "    encoder_hidden_states=image_embeds,\n",
    "    encoder_attention_mask=image_attention_mask,\n",
    "    return_dict=True\n",
    ")\n",
    "query_output = query_outputs.last_hidden_state\n",
    "\n",
    "print(image_attention_mask.shape)\n",
    "print(query_tokens.shape)\n",
    "print(query_output.shape)"
   ]
  },
  {
   "cell_type": "code",
   "execution_count": null,
   "id": "53afdc60",
   "metadata": {},
   "outputs": [],
   "source": [
    "language_model_inputs = model.language_projection(query_output)\n",
    "language_attention_mask = torch.ones(\n",
    "    language_model_inputs.size()[:-1],\n",
    "    dtype=torch.long,\n",
    "    device=model.device\n",
    ")\n",
    "input_ids = (\n",
    "    torch.LongTensor([[model.config.text_config.bos_token_id]])\n",
    "    .repeat(inputs[\"pixel_values\"].shape[0], 1)\n",
    "    .to(model.device)\n",
    ")\n",
    "attention_mask = torch.ones_like(input_ids)\n",
    "attention_mask = torch.cat(\n",
    "    [language_attention_mask, attention_mask.to(model.device)], dim=1\n",
    ")\n",
    "\n",
    "print(language_model_inputs.shape)\n",
    "print(input_ids)\n",
    "\n",
    "inputs_embeds = model.get_input_embeddings()(input_ids)\n",
    "inputs_embeds = torch.cat(\n",
    "    [language_model_inputs, inputs_embeds.to(model.device)], dim=1\n",
    ")\n",
    "\n",
    "outputs = model.language_model.generate(\n",
    "    inputs_embeds=inputs_embeds, attention_mask=attention_mask, max_length=50\n",
    ")\n",
    "print(outputs)\n",
    "print(outputs.shape)"
   ]
  }
 ],
 "metadata": {
  "kernelspec": {
   "display_name": "Python 3 (ipykernel)",
   "language": "python",
   "name": "python3"
  },
  "language_info": {
   "codemirror_mode": {
    "name": "ipython",
    "version": 3
   },
   "file_extension": ".py",
   "mimetype": "text/x-python",
   "name": "python",
   "nbconvert_exporter": "python",
   "pygments_lexer": "ipython3",
   "version": "3.9.13"
  }
 },
 "nbformat": 4,
 "nbformat_minor": 5
}
