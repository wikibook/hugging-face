{
 "cells": [
  {
   "cell_type": "code",
   "execution_count": null,
   "id": "e41fc33d",
   "metadata": {
    "vscode": {
     "languageId": "plaintext"
    }
   },
   "outputs": [],
   "source": [
    "from datasets import load_dataset\n",
    "from transformers import CLIPProcessor, CLIPModel\n",
    "\n",
    "model_name = \"openai/clip-vit-base-patch32\"\n",
    "processor = CLIPProcessor.from_pretrained(model_name)\n",
    "model = CLIPModel.from_pretrained(model_name)\n",
    "\n",
    "dataset = load_dataset(\"sasha/dog-food\")\n",
    "images = dataset[\"test\"][\"image\"][:2]\n",
    "labels = [\"dog\", \"food\"]\n",
    "inputs = processor(images=images, text=labels, return_tensors=\"pt\") # padding=True\n",
    "\n",
    "print(\"input_ids :\", inputs[\"input_ids\"])\n",
    "print(\"attention_mask :\", inputs[\"attention_mask\"])\n",
    "print(\"pixel_values :\", inputs[\"pixel_values\"])\n",
    "print(\"image_shape :\", inputs[\"pixel_values\"].shape)"
   ]
  },
  {
   "cell_type": "code",
   "execution_count": null,
   "id": "ac651f7b",
   "metadata": {
    "vscode": {
     "languageId": "plaintext"
    }
   },
   "outputs": [],
   "source": [
    "import torch\n",
    "\n",
    "model.eval()\n",
    "with torch.no_grad():\n",
    "    outputs = model(**inputs)\n",
    "    logits_per_image = outputs.logits_per_image\n",
    "    probs = logits_per_image.softmax(dim=1)\n",
    "    print(\"outputs :\", outputs.keys())\n",
    "    print(\"logits_per_image :\", logits_per_image)\n",
    "    print(\"probs :\", probs)\n",
    "\n",
    "for idx, prob in enumerate(probs):\n",
    "    print(f\"- Image #{idx}\")\n",
    "    for label, p in zip(labels, prob):\n",
    "        print(f\"{label} : {p:.4f}\")"
   ]
  },
  {
   "cell_type": "code",
   "execution_count": null,
   "id": "0d98c946",
   "metadata": {
    "vscode": {
     "languageId": "plaintext"
    }
   },
   "outputs": [],
   "source": [
    "import evaluate\n",
    "from torch.utils.data import DataLoader\n",
    "\n",
    "test_dataloader = DataLoader(\n",
    "    dataset[\"test\"],\n",
    "    batch_size=8,\n",
    "    collate_fn=lambda batch: (\n",
    "        [item[\"image\"] for item in batch],\n",
    "        [item[\"label\"] for item in batch],\n",
    "    ),\n",
    ")\n",
    "\n",
    "metric = evaluate.load(\"accuracy\")\n",
    "predictions, references = [], []\n",
    "labels_names = dataset[\"test\"].features[\"label\"].names\n",
    "\n",
    "model.eval()\n",
    "with torch.no_grad():\n",
    "    for images, labels in test_dataloader:\n",
    "        inputs = processor(images=images, text=labels_names, return_tensors=\"pt\")\n",
    "        outputs = model(**inputs)\n",
    "        probs = outputs.logits_per_image.softmax(dim=1)\n",
    "\n",
    "        predictions += probs.argmax(dim=1).cpu().tolist()\n",
    "        references += labels\n",
    "\n",
    "results = metric.compute(predictions=predictions, references=references)\n",
    "print(f\"클래스 목록 : {labels_names}\")\n",
    "print(f\"정확도 : {results['accuracy']*100 :.2f}%\")"
   ]
  }
 ],
 "metadata": {
  "kernelspec": {
   "display_name": "Python 3 (ipykernel)",
   "language": "python",
   "name": "python3"
  },
  "language_info": {
   "codemirror_mode": {
    "name": "ipython",
    "version": 3
   },
   "file_extension": ".py",
   "mimetype": "text/x-python",
   "name": "python",
   "nbconvert_exporter": "python",
   "pygments_lexer": "ipython3",
   "version": "3.9.13"
  }
 },
 "nbformat": 4,
 "nbformat_minor": 5
}
